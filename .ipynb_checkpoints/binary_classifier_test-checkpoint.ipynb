{
 "cells": [
  {
   "cell_type": "code",
   "execution_count": 1,
   "metadata": {
    "collapsed": true
   },
   "outputs": [],
   "source": [
    "from sklearn.svm import LinearSVC\n",
    "from sklearn.preprocessing import StandardScaler\n",
    "from scipy.misc import imread\n",
    "from sklearn.externals import joblib\n",
    "\n",
    "import random as rand\n",
    "import numpy as np \n",
    "import cv2\n",
    "import glob\n",
    "import time\n",
    "\n",
    "import matplotlib.pyplot as plt\n",
    "%matplotlib inline\n",
    "\n",
    "from helpers import convert, show_image\n",
    "from featuresourcer import FeatureSourcer\n",
    "from binaryclassifier import BinaryClassifier"
   ]
  },
  {
   "cell_type": "code",
   "execution_count": 2,
   "metadata": {
    "collapsed": true
   },
   "outputs": [],
   "source": [
    "sourcer_params = {\n",
    "  'color_model': 'hls',                # HSL, HSV\n",
    "  'bounding_box_size': 64,             #\n",
    "  'number_of_orientations': 12,        # 6 - 12\n",
    "  'pixels_per_cell': 8,                # 8, 16\n",
    "  'cells_per_block': 2,                # 1, 2\n",
    "  'do_transform_sqrt': True\n",
    "}"
   ]
  },
  {
   "cell_type": "code",
   "execution_count": null,
   "metadata": {
    "collapsed": false
   },
   "outputs": [],
   "source": [
    "start_frame = imread(\"test_images/test1.jpg\")\n",
    "sourcer = FeatureSourcer(sourcer_params, start_frame)\n",
    "\n",
    "f = sourcer.features(start_frame)\n",
    "print(\"feature shape:\", f.shape)\n",
    "\n",
    "f = sourcer.slice(x_start = 500, y_start = 500)\n",
    "print(\"feature shape:\", f.shape)"
   ]
  },
  {
   "cell_type": "code",
   "execution_count": null,
   "metadata": {
    "collapsed": true
   },
   "outputs": [],
   "source": []
  }
 ],
 "metadata": {
  "kernelspec": {
   "display_name": "Python 3",
   "language": "python",
   "name": "python3"
  },
  "language_info": {
   "codemirror_mode": {
    "name": "ipython",
    "version": 3
   },
   "file_extension": ".py",
   "mimetype": "text/x-python",
   "name": "python",
   "nbconvert_exporter": "python",
   "pygments_lexer": "ipython3",
   "version": "3.5.2"
  },
  "widgets": {
   "state": {},
   "version": "1.1.2"
  }
 },
 "nbformat": 4,
 "nbformat_minor": 2
}
